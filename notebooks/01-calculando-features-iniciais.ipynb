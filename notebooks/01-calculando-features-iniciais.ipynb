{
 "cells": [
  {
   "cell_type": "markdown",
   "metadata": {
    "colab_type": "text",
    "id": "h7M2DOQrdR8R"
   },
   "source": [
    "# Calculando as features iniciais\n",
    "Neste notebook serão calculadas as features iniciais para serem utilizadas como referência para os próximos testes. Elas estão separadas em dois grupos:\n",
    "1. features baseadas em estatísticas do sinal (como no estudo do LANL)\n",
    "2. features baseadas em características espectrais (MFCC e STFT)\n"
   ]
  },
  {
   "cell_type": "markdown",
   "metadata": {
    "colab_type": "text",
    "id": "7d0X23Jtay8-"
   },
   "source": [
    "## Conectando ao Google Drive"
   ]
  },
  {
   "cell_type": "code",
   "execution_count": null,
   "metadata": {
    "colab": {
     "base_uri": "https://localhost:8080/",
     "height": 71
    },
    "colab_type": "code",
    "executionInfo": {
     "elapsed": 3544,
     "status": "ok",
     "timestamp": 1568001911942,
     "user": {
      "displayName": "Alexandre Seidy Ioshisaqui",
      "photoUrl": "https://lh3.googleusercontent.com/a-/AAuE7mBZqK_m5L4lz7iUs6Nj8FUSjnI_bcgmfHvnD7mW=s64",
      "userId": "11107923966474525520"
     },
     "user_tz": 180
    },
    "id": "wzg95r2XYA8U",
    "outputId": "bd87452d-bdc4-4a58-88ab-aec903733ef9"
   },
   "outputs": [
    {
     "name": "stdout",
     "output_type": "stream",
     "text": [
      "Drive already mounted at /content/drive; to attempt to forcibly remount, call drive.mount(\"/content/drive\", force_remount=True).\n",
      "'My Drive'  'Shared drives'\n"
     ]
    }
   ],
   "source": [
    "## Conectando o notebook com o Google Drive\n",
    "from google.colab import drive\n",
    "drive.mount('/content/drive')\n",
    "# Testando se o notebook acessa o Drive corretamente\n",
    "!ls 'drive/' "
   ]
  },
  {
   "cell_type": "code",
   "execution_count": null,
   "metadata": {
    "colab": {
     "base_uri": "https://localhost:8080/",
     "height": 102
    },
    "colab_type": "code",
    "executionInfo": {
     "elapsed": 7284,
     "status": "ok",
     "timestamp": 1568001958346,
     "user": {
      "displayName": "Alexandre Seidy Ioshisaqui",
      "photoUrl": "https://lh3.googleusercontent.com/a-/AAuE7mBZqK_m5L4lz7iUs6Nj8FUSjnI_bcgmfHvnD7mW=s64",
      "userId": "11107923966474525520"
     },
     "user_tz": 180
    },
    "id": "Ll8Ve-YkYeae",
    "outputId": "6a56aa83-d950-4257-df17-18927cb4d696"
   },
   "outputs": [
    {
     "name": "stdout",
     "output_type": "stream",
     "text": [
      "env: path_proj=drive/My Drive/Aulas/2019_2/ie301-projeto/projeto/\n",
      "dados  imagens\tnotebooks\n",
      "-------\n",
      "drive\t\t    plot_feat_corr.png\ttrain_downsample_100.csv\n",
      "plot_feat_corr.eps  sample_data\n"
     ]
    }
   ],
   "source": [
    "#  Mover a pasta compartilhada para algum lugar em seu proprio drive, \n",
    "#  para conseguir acessar um atalho para o diretorio a partir daqui.\n",
    "\n",
    "## Configurar essa variavel de ambiente (path_dados) para cada pessoa\n",
    "## Meu caminho no drive (alexandre)\n",
    "%env path_proj=drive/My Drive/Aulas/2019_2/ie301-projeto/projeto/\n",
    "\n",
    "!ls \"$path_proj\"\n",
    "!echo \"-------\"\n",
    "!ls ."
   ]
  },
  {
   "cell_type": "code",
   "execution_count": null,
   "metadata": {
    "colab": {
     "base_uri": "https://localhost:8080/",
     "height": 68
    },
    "colab_type": "code",
    "executionInfo": {
     "elapsed": 9339,
     "status": "ok",
     "timestamp": 1568000882879,
     "user": {
      "displayName": "Alexandre Seidy Ioshisaqui",
      "photoUrl": "https://lh3.googleusercontent.com/a-/AAuE7mBZqK_m5L4lz7iUs6Nj8FUSjnI_bcgmfHvnD7mW=s64",
      "userId": "11107923966474525520"
     },
     "user_tz": 180
    },
    "id": "sLDL7JYkahFQ",
    "outputId": "d6745b3d-e2a3-451f-e639-e5aa616b0223"
   },
   "outputs": [
    {
     "name": "stdout",
     "output_type": "stream",
     "text": [
      "drive  foo.eps\tplot_feat_corr.eps  sample_data\t\t      treino.pkl\n",
      "foo    foo.png\tplot_feat_corr.png  train_downsample_100.csv  validacao.pkl\n",
      "92M\ttrain_downsample_100.csv\n"
     ]
    }
   ],
   "source": [
    "## Carreando base de treino (downsampled)\n",
    "!cp \"$path_proj/dados/train_downsample_100.csv\" .\n",
    "!ls\n",
    "!du -h *.csv"
   ]
  },
  {
   "cell_type": "markdown",
   "metadata": {
    "colab_type": "text",
    "id": "50gi0HBRbDsL"
   },
   "source": [
    "## Importando bibliotecas"
   ]
  },
  {
   "cell_type": "code",
   "execution_count": null,
   "metadata": {
    "colab": {
     "base_uri": "https://localhost:8080/",
     "height": 34
    },
    "colab_type": "code",
    "executionInfo": {
     "elapsed": 3131,
     "status": "ok",
     "timestamp": 1568001987929,
     "user": {
      "displayName": "Alexandre Seidy Ioshisaqui",
      "photoUrl": "https://lh3.googleusercontent.com/a-/AAuE7mBZqK_m5L4lz7iUs6Nj8FUSjnI_bcgmfHvnD7mW=s64",
      "userId": "11107923966474525520"
     },
     "user_tz": 180
    },
    "id": "jwlH61IDZOtJ",
    "outputId": "48fa34aa-e11d-4978-8cd4-c26642b0d316"
   },
   "outputs": [
    {
     "name": "stdout",
     "output_type": "stream",
     "text": [
      "Populating the interactive namespace from numpy and matplotlib\n"
     ]
    }
   ],
   "source": [
    "## Basic imports\n",
    "%matplotlib inline\n",
    "%pylab inline\n",
    "import matplotlib.pyplot as plt\n",
    "import pandas as pd\n",
    "import numpy as np\n",
    "import scipy.stats as st\n",
    "\n",
    "## Utils\n",
    "import timeit\n",
    "import time\n",
    "from tqdm import tqdm\n",
    "import pickle\n",
    "\n",
    "## Audio features\n",
    "import librosa\n",
    "import librosa.display"
   ]
  },
  {
   "cell_type": "markdown",
   "metadata": {
    "colab_type": "text",
    "id": "rLlD5b4N0nR0"
   },
   "source": [
    "## Carregando os arquivos e gerando os novos datasets"
   ]
  },
  {
   "cell_type": "code",
   "execution_count": null,
   "metadata": {
    "colab": {},
    "colab_type": "code",
    "id": "6AWFrQKI0aUr"
   },
   "outputs": [],
   "source": [
    "df_orig = pd.read_csv('train_downsample_100.csv')"
   ]
  },
  {
   "cell_type": "markdown",
   "metadata": {
    "colab_type": "text",
    "id": "2Es2oMohBKI_"
   },
   "source": [
    "#### sinal original"
   ]
  },
  {
   "cell_type": "code",
   "execution_count": null,
   "metadata": {
    "colab": {
     "base_uri": "https://localhost:8080/",
     "height": 34
    },
    "colab_type": "code",
    "executionInfo": {
     "elapsed": 7078,
     "status": "ok",
     "timestamp": 1568002012069,
     "user": {
      "displayName": "Alexandre Seidy Ioshisaqui",
      "photoUrl": "https://lh3.googleusercontent.com/a-/AAuE7mBZqK_m5L4lz7iUs6Nj8FUSjnI_bcgmfHvnD7mW=s64",
      "userId": "11107923966474525520"
     },
     "user_tz": 180
    },
    "id": "ei1nOjlwZVPq",
    "outputId": "f215d87b-4b0d-4be9-dced-b466e16dbd1c"
   },
   "outputs": [
    {
     "name": "stderr",
     "output_type": "stream",
     "text": [
      "100%|██████████| 20966/20966 [00:05<00:00, 3629.59it/s]\n"
     ]
    }
   ],
   "source": [
    "## Passos de 300 em 300 (overlap de 80%)\n",
    "max_index = int((df_orig.shape[0]-1500) / 300)\n",
    "x_orig = np.zeros([max_index, 1500])\n",
    "y_orig = np.zeros(max_index)\n",
    "for line in tqdm(range(max_index)):\n",
    "    index = line*300\n",
    "    x_orig[line, :] = df_orig.loc[index:index + 1499,\n",
    "                             'acoustic_data'].values\n",
    "    y_orig[line] = df_orig['time_to_failure'][index+1499]\n",
    "\n",
    "## Configuracao de treino: holdout 80/20\n",
    "holdout_index = int(y_orig.shape[0]*.80)\n",
    "x_train = x_orig[:holdout_index, :]\n",
    "y_train = y_orig[:holdout_index]\n",
    "\n",
    "x_valid = x_orig[holdout_index:, :]\n",
    "y_valid = y_orig[holdout_index:]\n",
    "\n",
    "# print(y_orig.shape[0]-(y_train.shape[0]+y_valid.shape[0]))"
   ]
  },
  {
   "cell_type": "code",
   "execution_count": null,
   "metadata": {
    "colab": {},
    "colab_type": "code",
    "id": "Qp2cYhbF2QQv"
   },
   "outputs": [],
   "source": [
    "df_train = pd.DataFrame({'y': y_train})\n",
    "df_valid = pd.DataFrame({'y': y_valid})"
   ]
  },
  {
   "cell_type": "markdown",
   "metadata": {
    "colab_type": "text",
    "id": "zXWYVhsvh_R_"
   },
   "source": [
    "## Sobre o cálculo das features\n",
    "- As features serão calculadas, tendo em mente uma subdivisão de cada segmento em duas metades. \n",
    "- Esta divisão separando entre começo e fim do segmento pode possibilitar que as features encontradas reflitam, de uma maneira resumida, a transição temporal do fenômeno de deslizamento capturada no sinal de emissão acústica.\n"
   ]
  },
  {
   "cell_type": "markdown",
   "metadata": {
    "colab_type": "text",
    "id": "Nt8wdFLNmiba"
   },
   "source": [
    "### Características espectrais\n",
    "- MFCC\n",
    "- STFT"
   ]
  },
  {
   "cell_type": "code",
   "execution_count": null,
   "metadata": {
    "colab": {},
    "colab_type": "code",
    "id": "dhFgtoQUnhPK"
   },
   "outputs": [],
   "source": [
    "def gen_feat_mfcc(x, sub_division=2):\n",
    "    \"\"\" Processa um conjunto de segmentos de sinal acustico.\n",
    "        'sub_division' indica a subdivisao dos segmentos (max: 3)\n",
    "        Cada sub-segmento gera 20 coeficientes Mel-cepstrais.\n",
    "    \"\"\"\n",
    "    if(sub_division==3): \n",
    "        hop_length=301\n",
    "        n_feats = 60\n",
    "    elif(sub_division==2): \n",
    "        hop_length=751\n",
    "        n_feats = 40\n",
    "    else: \n",
    "        hop_length=1501\n",
    "        n_feats = 20\n",
    "    \n",
    "    sample_rate = 4e4\n",
    "    features = np.zeros([len(x), n_feats])\n",
    "\n",
    "    for i in tqdm(range(len(x))):\n",
    "        S = librosa.feature.melspectrogram(y = x[i,:], \n",
    "                                           sr = sample_rate, \n",
    "                                           hop_length = hop_length)\n",
    "        mfccs = librosa.feature.mfcc(S=librosa.power_to_db(S))\n",
    "        features[i] = mfccs.ravel()\n",
    "    return features"
   ]
  },
  {
   "cell_type": "code",
   "execution_count": null,
   "metadata": {
    "colab": {
     "base_uri": "https://localhost:8080/",
     "height": 51
    },
    "colab_type": "code",
    "executionInfo": {
     "elapsed": 126393,
     "status": "ok",
     "timestamp": 1568002426235,
     "user": {
      "displayName": "Alexandre Seidy Ioshisaqui",
      "photoUrl": "https://lh3.googleusercontent.com/a-/AAuE7mBZqK_m5L4lz7iUs6Nj8FUSjnI_bcgmfHvnD7mW=s64",
      "userId": "11107923966474525520"
     },
     "user_tz": 180
    },
    "id": "hIHR6ool4ddL",
    "outputId": "1320457a-90c1-4580-8a7b-eb1b50ecd4e8"
   },
   "outputs": [
    {
     "name": "stderr",
     "output_type": "stream",
     "text": [
      "100%|██████████| 16772/16772 [01:40<00:00, 166.51it/s]\n",
      "100%|██████████| 4194/4194 [00:25<00:00, 167.66it/s]\n"
     ]
    }
   ],
   "source": [
    "## Calculando as features MFCC\n",
    "\n",
    "mfcc_train = gen_feat_mfcc(x_train, sub_division=2)\n",
    "mfcc_valid = gen_feat_mfcc(x_valid, sub_division=2)"
   ]
  },
  {
   "cell_type": "code",
   "execution_count": null,
   "metadata": {
    "colab": {
     "base_uri": "https://localhost:8080/",
     "height": 271
    },
    "colab_type": "code",
    "executionInfo": {
     "elapsed": 3006,
     "status": "ok",
     "timestamp": 1568002469699,
     "user": {
      "displayName": "Alexandre Seidy Ioshisaqui",
      "photoUrl": "https://lh3.googleusercontent.com/a-/AAuE7mBZqK_m5L4lz7iUs6Nj8FUSjnI_bcgmfHvnD7mW=s64",
      "userId": "11107923966474525520"
     },
     "user_tz": 180
    },
    "id": "KxOxEuJIZBaj",
    "outputId": "bb80f601-7300-49d4-dec0-7e4acf54963b"
   },
   "outputs": [
    {
     "data": {
      "image/png": "[encoded data removed]",
      "text/plain": [
       "<Figure size 432x288 with 2 Axes>"
      ]
     },
     "metadata": {
      "tags": []
     },
     "output_type": "display_data"
    }
   ],
   "source": [
    "## Espectrograma Mel\n",
    "with plt.style.context('ggplot'):\n",
    "    librosa.display.specshow(mfcc_train[0].reshape([20,2]), \n",
    "                            y_axis='mel');\n",
    "    plt.colorbar(format='%+2.0f dB');\n",
    "    plt.title('Espectrograma Mel');\n",
    "    savefig('graf_coef_mfcc.eps', dpi=400, format='eps')\n",
    "    savefig('graf_coef_mfcc.png', dpi=400, format='png')"
   ]
  },
  {
   "cell_type": "code",
   "execution_count": null,
   "metadata": {
    "colab": {
     "base_uri": "https://localhost:8080/",
     "height": 34
    },
    "colab_type": "code",
    "executionInfo": {
     "elapsed": 996,
     "status": "ok",
     "timestamp": 1568002597919,
     "user": {
      "displayName": "Alexandre Seidy Ioshisaqui",
      "photoUrl": "https://lh3.googleusercontent.com/a-/AAuE7mBZqK_m5L4lz7iUs6Nj8FUSjnI_bcgmfHvnD7mW=s64",
      "userId": "11107923966474525520"
     },
     "user_tz": 180
    },
    "id": "39tiXrhGTF4B",
    "outputId": "32610283-4079-414f-ba8d-9a29b1329de3"
   },
   "outputs": [
    {
     "name": "stderr",
     "output_type": "stream",
     "text": [
      "100%|██████████| 40/40 [00:00<00:00, 527.01it/s]\n"
     ]
    }
   ],
   "source": [
    "## adicionando ao DataFrame\n",
    "col_mfcc = ['y']\n",
    "for n in tqdm(range(mfcc_train.shape[1])):\n",
    "    name = 'MFCC_'+'{:02d}'.format(n+1)\n",
    "    df_train[name] = mfcc_train[:,n]\n",
    "    df_valid[name] = mfcc_valid[:,n]\n",
    "    col_mfcc.append(name)"
   ]
  },
  {
   "cell_type": "markdown",
   "metadata": {
    "colab_type": "text",
    "id": "c5QDQLT_moha"
   },
   "source": [
    "### Características estatísticas\n",
    "- Variância\n",
    "- Curtose (kurtosis)"
   ]
  },
  {
   "cell_type": "code",
   "execution_count": null,
   "metadata": {
    "colab": {
     "base_uri": "https://localhost:8080/",
     "height": 569
    },
    "colab_type": "code",
    "executionInfo": {
     "elapsed": 9713,
     "status": "ok",
     "timestamp": 1568004122579,
     "user": {
      "displayName": "Alexandre Seidy Ioshisaqui",
      "photoUrl": "https://lh3.googleusercontent.com/a-/AAuE7mBZqK_m5L4lz7iUs6Nj8FUSjnI_bcgmfHvnD7mW=s64",
      "userId": "11107923966474525520"
     },
     "user_tz": 180
    },
    "id": "Q_DYmaWno_MI",
    "outputId": "71878c6a-0ea9-40db-c6d9-184e5c63178c"
   },
   "outputs": [
    {
     "data": {
      "image/png": "[encoded data removed]",
      "text/plain": [
       "<Figure size 432x648 with 2 Axes>"
      ]
     },
     "metadata": {
      "tags": []
     },
     "output_type": "display_data"
    }
   ],
   "source": [
    "with plt.style.context('ggplot'):\n",
    "    figsize(6,9)\n",
    "    subplot(211)\n",
    "    plt.title('Sinal original')\n",
    "    df_orig['acoustic_data'].plot()\n",
    "    plt.xticks(rotation=20);\n",
    "    \n",
    "    subplot(212)\n",
    "    plt.title('Primeira diferença finita')\n",
    "    df_diff = df_orig['acoustic_data'][1:-1].values - df_orig['acoustic_data'][0:-2].values\n",
    "    plt.plot(df_diff)\n",
    "    plt.xticks(rotation=20);\n",
    "    savefig('plot_sinal_normal_vs_dif.eps', dpi=400, format='eps')\n",
    "    savefig('plot_sinal_normal_vs_dif.png', dpi=400, format='png')"
   ]
  },
  {
   "cell_type": "code",
   "execution_count": null,
   "metadata": {
    "colab": {},
    "colab_type": "code",
    "id": "0Jeb762QBGYi"
   },
   "outputs": [],
   "source": [
    "## (to do) plotar novamente o histograma de valores dos sinais"
   ]
  },
  {
   "cell_type": "markdown",
   "metadata": {
    "colab_type": "text",
    "id": "xQHHy5oTB8nM"
   },
   "source": [
    "#### primeira diferença finita"
   ]
  },
  {
   "cell_type": "code",
   "execution_count": null,
   "metadata": {
    "colab": {},
    "colab_type": "code",
    "id": "j-brK_WH6Bg0"
   },
   "outputs": [],
   "source": [
    "## Passos de 300 em 300 (overlap de 80%)\n",
    "max_index = int((df_diff.shape[0]-1500) / 300)\n",
    "x_diff = np.zeros([max_index, 1500])\n",
    "y_diff = np.zeros(max_index)\n",
    "for line in tqdm(range(max_index)):\n",
    "    index = line*300\n",
    "    x_diff[line, :] = df_diff.loc[index:index + 1499,\n",
    "                             'acoustic_data'].values\n",
    "    y_diff[line] = df_diff['time_to_failure'][index+1499]\n",
    "\n",
    "## Configuracao de treino: holdout 80/20\n",
    "holdout_index = int(y_diff.shape[0]*.80)\n",
    "x_train_dif = x_diff[:holdout_index, :]\n",
    "y_train_dif = y_diff[:holdout_index]\n",
    "\n",
    "x_valid_dif = x_diff[holdout_index:, :]\n",
    "y_valid_dif = y_diff[holdout_index:]\n",
    "\n",
    "# print(y_orig.shape[0]-(y_train.shape[0]+y_valid.shape[0]))"
   ]
  },
  {
   "cell_type": "code",
   "execution_count": null,
   "metadata": {
    "colab": {},
    "colab_type": "code",
    "id": "34hXhRCa1Y93"
   },
   "outputs": [],
   "source": [
    "## Dividindo os segmentos em (L)eft e (R)ight\n",
    "metade_segmento = int(x_train.shape[1]/2) # 750\n",
    "x_train_l = x_train_dif[:, :metade_segmento]\n",
    "x_train_r = x_train_dif[:, metade_segmento:]\n",
    "x_valid_l = x_valid_dif[:, :metade_segmento]\n",
    "x_valid_r = x_valid_dif[:, metade_segmento:]"
   ]
  },
  {
   "cell_type": "code",
   "execution_count": null,
   "metadata": {
    "colab": {},
    "colab_type": "code",
    "id": "XiyUgHk1fsva"
   },
   "outputs": [],
   "source": [
    "## Variancia\n",
    "# treino\n",
    "df_train['VAR_L'] = np.var(x_train_l, axis=1)\n",
    "df_train['VAR_R'] = np.var(x_train_r, axis=1)\n",
    "# valid\n",
    "df_valid['VAR_L'] = np.var(x_valid_l, axis=1)\n",
    "df_valid['VAR_R'] = np.var(x_valid_r, axis=1)\n",
    "\n",
    "col_stats = ['y']\n",
    "col_stats.append('VAR_L')\n",
    "col_stats.append('VAR_R')"
   ]
  },
  {
   "cell_type": "code",
   "execution_count": null,
   "metadata": {
    "colab": {},
    "colab_type": "code",
    "id": "pNKDp-R_jKhU"
   },
   "outputs": [],
   "source": [
    "## Curtose\n",
    "# treino\n",
    "df_train['KURT_L'] = st.kurtosis(x_train_l, axis=1)\n",
    "df_train['KURT_R'] = st.kurtosis(x_train_r, axis=1)\n",
    "# valid\n",
    "df_valid['KURT_L'] = st.kurtosis(x_valid_l, axis=1)\n",
    "df_valid['KURT_R'] = st.kurtosis(x_valid_r, axis=1)\n",
    "\n",
    "col_stats.append('KURT_L')\n",
    "col_stats.append('KURT_R')"
   ]
  },
  {
   "cell_type": "code",
   "execution_count": null,
   "metadata": {
    "colab": {},
    "colab_type": "code",
    "id": "dz6xjddAumew"
   },
   "outputs": [],
   "source": [
    "## Quantil\n",
    "# Treino\n",
    "# (daria pra fazer por algum loop, mas achei que ficaria confuso)\n",
    "df_train['Q_01_L'] = np.quantile(x_train_l, 0.01, axis=1)\n",
    "df_train['Q_05_L'] = np.quantile(x_train_l, 0.05, axis=1)\n",
    "df_train['Q_10_L'] = np.quantile(x_train_l, 0.10, axis=1)\n",
    "df_train['Q_90_L'] = np.quantile(x_train_l, 0.90, axis=1)\n",
    "df_train['Q_95_L'] = np.quantile(x_train_l, 0.95, axis=1)\n",
    "df_train['Q_99_L'] = np.quantile(x_train_l, 0.99, axis=1)\n",
    "\n",
    "df_train['Q_01_R'] = np.quantile(x_train_r, 0.01, axis=1)\n",
    "df_train['Q_05_R'] = np.quantile(x_train_r, 0.05, axis=1)\n",
    "df_train['Q_10_R'] = np.quantile(x_train_r, 0.10, axis=1)\n",
    "df_train['Q_90_R'] = np.quantile(x_train_r, 0.90, axis=1)\n",
    "df_train['Q_95_R'] = np.quantile(x_train_r, 0.95, axis=1)\n",
    "df_train['Q_99_R'] = np.quantile(x_train_r, 0.99, axis=1)\n",
    "\n",
    "# Valid\n",
    "df_valid['Q_01_L'] = np.quantile(x_valid_l, 0.01, axis=1)\n",
    "df_valid['Q_05_L'] = np.quantile(x_valid_l, 0.05, axis=1)\n",
    "df_valid['Q_10_L'] = np.quantile(x_valid_l, 0.10, axis=1)\n",
    "df_valid['Q_90_L'] = np.quantile(x_valid_l, 0.90, axis=1)\n",
    "df_valid['Q_95_L'] = np.quantile(x_valid_l, 0.95, axis=1)\n",
    "df_valid['Q_99_L'] = np.quantile(x_valid_l, 0.99, axis=1)\n",
    "\n",
    "df_valid['Q_01_R'] = np.quantile(x_valid_r, 0.01, axis=1)\n",
    "df_valid['Q_05_R'] = np.quantile(x_valid_r, 0.05, axis=1)\n",
    "df_valid['Q_10_R'] = np.quantile(x_valid_r, 0.10, axis=1)\n",
    "df_valid['Q_90_R'] = np.quantile(x_valid_r, 0.90, axis=1)\n",
    "df_valid['Q_95_R'] = np.quantile(x_valid_r, 0.95, axis=1)\n",
    "df_valid['Q_99_R'] = np.quantile(x_valid_r, 0.99, axis=1)\n",
    "\n",
    "col_stats.append('Q_01_L')\n",
    "col_stats.append('Q_05_L')\n",
    "col_stats.append('Q_10_L')\n",
    "col_stats.append('Q_90_L')\n",
    "col_stats.append('Q_95_L')\n",
    "col_stats.append('Q_99_L')\n",
    "col_stats.append('Q_01_R')\n",
    "col_stats.append('Q_05_R')\n",
    "col_stats.append('Q_10_R')\n",
    "col_stats.append('Q_90_R')\n",
    "col_stats.append('Q_95_R')\n",
    "col_stats.append('Q_99_R')"
   ]
  },
  {
   "cell_type": "code",
   "execution_count": null,
   "metadata": {
    "colab": {},
    "colab_type": "code",
    "id": "HHOYuf0kw1z5"
   },
   "outputs": [],
   "source": [
    "## Threshold (amostras alem do threshold, dentro do segmento de 1500 pontos)\n",
    "# treino\n",
    "df_train['TH_P010_L'] = np.apply_along_axis(lambda x: np.sum(x > 10), 1, x_train_l)\n",
    "df_train['TH_P020_L'] = np.apply_along_axis(lambda x: np.sum(x > 20), 1, x_train_l)\n",
    "df_train['TH_P040_L'] = np.apply_along_axis(lambda x: np.sum(x > 40), 1, x_train_l)\n",
    "df_train['TH_P080_L'] = np.apply_along_axis(lambda x: np.sum(x > 80), 1, x_train_l)\n",
    "df_train['TH_P160_L'] = np.apply_along_axis(lambda x: np.sum(x > 160), 1, x_train_l)\n",
    "df_train['TH_N010_L'] = np.apply_along_axis(lambda x: np.sum(x <-10), 1, x_train_l)\n",
    "df_train['TH_N020_L'] = np.apply_along_axis(lambda x: np.sum(x <-20), 1, x_train_l)\n",
    "df_train['TH_N040_L'] = np.apply_along_axis(lambda x: np.sum(x <-40), 1, x_train_l)\n",
    "df_train['TH_N080_L'] = np.apply_along_axis(lambda x: np.sum(x <-80), 1, x_train_l)\n",
    "df_train['TH_N160_L'] = np.apply_along_axis(lambda x: np.sum(x <-160), 1, x_train_l)\n",
    "\n",
    "df_train['TH_P010_R'] = np.apply_along_axis(lambda x: np.sum(x > 10), 1, x_train_r)\n",
    "df_train['TH_P020_R'] = np.apply_along_axis(lambda x: np.sum(x > 20), 1, x_train_r)\n",
    "df_train['TH_P040_R'] = np.apply_along_axis(lambda x: np.sum(x > 40), 1, x_train_r)\n",
    "df_train['TH_P080_R'] = np.apply_along_axis(lambda x: np.sum(x > 80), 1, x_train_r)\n",
    "df_train['TH_P160_R'] = np.apply_along_axis(lambda x: np.sum(x > 160), 1, x_train_r)\n",
    "df_train['TH_N010_R'] = np.apply_along_axis(lambda x: np.sum(x <-10), 1, x_train_r)\n",
    "df_train['TH_N020_R'] = np.apply_along_axis(lambda x: np.sum(x <-20), 1, x_train_r)\n",
    "df_train['TH_N040_R'] = np.apply_along_axis(lambda x: np.sum(x <-40), 1, x_train_r)\n",
    "df_train['TH_N080_R'] = np.apply_along_axis(lambda x: np.sum(x <-80), 1, x_train_r)\n",
    "df_train['TH_N160_R'] = np.apply_along_axis(lambda x: np.sum(x <-160), 1, x_train_r)\n",
    "\n",
    "# valid\n",
    "df_valid['TH_P010_L'] = np.apply_along_axis(lambda x: np.sum(x > 10), 1, x_valid_l)\n",
    "df_valid['TH_P020_L'] = np.apply_along_axis(lambda x: np.sum(x > 20), 1, x_valid_l)\n",
    "df_valid['TH_P040_L'] = np.apply_along_axis(lambda x: np.sum(x > 40), 1, x_valid_l)\n",
    "df_valid['TH_P080_L'] = np.apply_along_axis(lambda x: np.sum(x > 80), 1, x_valid_l)\n",
    "df_valid['TH_P160_L'] = np.apply_along_axis(lambda x: np.sum(x > 160), 1, x_valid_l)\n",
    "df_valid['TH_N010_L'] = np.apply_along_axis(lambda x: np.sum(x <-10), 1, x_valid_l)\n",
    "df_valid['TH_N020_L'] = np.apply_along_axis(lambda x: np.sum(x <-20), 1, x_valid_l)\n",
    "df_valid['TH_N040_L'] = np.apply_along_axis(lambda x: np.sum(x <-40), 1, x_valid_l)\n",
    "df_valid['TH_N080_L'] = np.apply_along_axis(lambda x: np.sum(x <-80), 1, x_valid_l)\n",
    "df_valid['TH_N160_L'] = np.apply_along_axis(lambda x: np.sum(x <-160), 1, x_valid_l)\n",
    "\n",
    "df_valid['TH_P010_R'] = np.apply_along_axis(lambda x: np.sum(x > 10), 1, x_valid_r)\n",
    "df_valid['TH_P020_R'] = np.apply_along_axis(lambda x: np.sum(x > 20), 1, x_valid_r)\n",
    "df_valid['TH_P040_R'] = np.apply_along_axis(lambda x: np.sum(x > 40), 1, x_valid_r)\n",
    "df_valid['TH_P080_R'] = np.apply_along_axis(lambda x: np.sum(x > 80), 1, x_valid_r)\n",
    "df_valid['TH_P160_R'] = np.apply_along_axis(lambda x: np.sum(x > 160), 1, x_valid_r)\n",
    "df_valid['TH_N010_R'] = np.apply_along_axis(lambda x: np.sum(x <-10), 1, x_valid_r)\n",
    "df_valid['TH_N020_R'] = np.apply_along_axis(lambda x: np.sum(x <-20), 1, x_valid_r)\n",
    "df_valid['TH_N040_R'] = np.apply_along_axis(lambda x: np.sum(x <-40), 1, x_valid_r)\n",
    "df_valid['TH_N080_R'] = np.apply_along_axis(lambda x: np.sum(x <-80), 1, x_valid_r)\n",
    "df_valid['TH_N160_R'] = np.apply_along_axis(lambda x: np.sum(x <-160), 1, x_valid_r)\n",
    "\n",
    "col_stats.append('TH_P010_L')\n",
    "col_stats.append('TH_P020_L')\n",
    "col_stats.append('TH_P040_L')\n",
    "col_stats.append('TH_P080_L')\n",
    "col_stats.append('TH_P160_L')\n",
    "col_stats.append('TH_N010_L')\n",
    "col_stats.append('TH_N020_L')\n",
    "col_stats.append('TH_N040_L')\n",
    "col_stats.append('TH_N080_L')\n",
    "col_stats.append('TH_N160_L')\n",
    "\n",
    "col_stats.append('TH_P010_R')\n",
    "col_stats.append('TH_P020_R')\n",
    "col_stats.append('TH_P040_R')\n",
    "col_stats.append('TH_P080_R')\n",
    "col_stats.append('TH_P160_R')\n",
    "col_stats.append('TH_N010_R')\n",
    "col_stats.append('TH_N020_R')\n",
    "col_stats.append('TH_N040_R')\n",
    "col_stats.append('TH_N080_R')\n",
    "col_stats.append('TH_N160_R')\n",
    "\n",
    "# foo = np.apply_along_axis(lambda x: np.sum(x > 80), 1, x_train)\n",
    "# plt.hist(foo, bins=50);"
   ]
  },
  {
   "cell_type": "code",
   "execution_count": null,
   "metadata": {
    "colab": {
     "base_uri": "https://localhost:8080/",
     "height": 486
    },
    "colab_type": "code",
    "executionInfo": {
     "elapsed": 4686,
     "status": "ok",
     "timestamp": 1568002748738,
     "user": {
      "displayName": "Alexandre Seidy Ioshisaqui",
      "photoUrl": "https://lh3.googleusercontent.com/a-/AAuE7mBZqK_m5L4lz7iUs6Nj8FUSjnI_bcgmfHvnD7mW=s64",
      "userId": "11107923966474525520"
     },
     "user_tz": 180
    },
    "id": "oWUKzNK3uxx8",
    "outputId": "3b850fd1-ba5f-497f-8904-526d3f0b1d76"
   },
   "outputs": [
    {
     "data": {
      "image/png": "[encoded data removed]",
      "text/plain": [
       "<Figure size 576x576 with 2 Axes>"
      ]
     },
     "metadata": {
      "tags": []
     },
     "output_type": "display_data"
    }
   ],
   "source": [
    "with plt.style.context('ggplot'):\n",
    "    figsize(8,8)\n",
    "    ax1 = subplot(121)\n",
    "    df = df_train[col_stats]\n",
    "    ax = plt.plot(df.corr()['y'].values, np.arange(df.shape[1]), '.');\n",
    "    plt.grid(True)\n",
    "    plt.yticks(np.arange(df.shape[1]), col_stats, rotation='horizontal');\n",
    "    ax2 = subplot(122)\n",
    "    ax2.yaxis.tick_right()\n",
    "    ax2.yaxis.set_label_position('right')\n",
    "    df = df_train[col_mfcc]\n",
    "    plt.plot(df.corr()['y'].values, np.arange(df.shape[1]), '.');\n",
    "    plt.grid(True)\n",
    "    plt.yticks(np.arange(df.shape[1]), col_mfcc, rotation='horizontal');\n",
    "\n",
    "    savefig('plot_feat_corr.eps', dpi=400, format='eps')\n",
    "    savefig('plot_feat_corr.png', dpi=400, format='png')\n"
   ]
  },
  {
   "cell_type": "markdown",
   "metadata": {
    "colab_type": "text",
    "id": "cGW4MDS7TXeg"
   },
   "source": [
    "## Gravando arquivos finais"
   ]
  },
  {
   "cell_type": "code",
   "execution_count": null,
   "metadata": {
    "colab": {},
    "colab_type": "code",
    "id": "B4FPX0C_w90l"
   },
   "outputs": [],
   "source": [
    "## Backup dos arquivos\n",
    "# !cp *.pkl \"$path_proj/dados/\"\n",
    "!cp *.eps \"$path_proj/imagens/\"\n",
    "!cp *.png \"$path_proj/imagens/\""
   ]
  },
  {
   "cell_type": "code",
   "execution_count": null,
   "metadata": {
    "colab": {
     "base_uri": "https://localhost:8080/",
     "height": 51
    },
    "colab_type": "code",
    "executionInfo": {
     "elapsed": 4780,
     "status": "ok",
     "timestamp": 1568008482339,
     "user": {
      "displayName": "Alexandre Seidy Ioshisaqui",
      "photoUrl": "https://lh3.googleusercontent.com/a-/AAuE7mBZqK_m5L4lz7iUs6Nj8FUSjnI_bcgmfHvnD7mW=s64",
      "userId": "11107923966474525520"
     },
     "user_tz": 180
    },
    "id": "L1FMEM348A48",
    "outputId": "617c53eb-55d0-4a5b-bd27-8cda9bd2efa8"
   },
   "outputs": [
    {
     "name": "stdout",
     "output_type": "stream",
     "text": [
      "13M\tfeatures.pkl\n",
      "0\tfinal_model.pkl\n"
     ]
    }
   ],
   "source": [
    "## Gravando as features\n",
    "with open('features.pkl', 'wb') as f:\n",
    "    feats = {'df_train' : df_train, \n",
    "             'df_valid' : df_valid, \n",
    "             'col_stats' : col_stats, \n",
    "             'col_mfcc' : col_mfcc}\n",
    "    pickle.dump(feats, f, protocol=pickle.HIGHEST_PROTOCOL)\n",
    "    f.close()\n",
    "\n",
    "!cp features.pkl \"$path_proj/dados/\"\n",
    "!du -h *.pkl\n",
    "# with open('arquivo.pkl', 'rb') as f:\n",
    "#     variaveis = pickle.load(f)\n",
    "#     f.close()"
   ]
  },
  {
   "cell_type": "code",
   "execution_count": null,
   "metadata": {
    "colab": {
     "base_uri": "https://localhost:8080/",
     "height": 68
    },
    "colab_type": "code",
    "executionInfo": {
     "elapsed": 7494,
     "status": "ok",
     "timestamp": 1568008599275,
     "user": {
      "displayName": "Alexandre Seidy Ioshisaqui",
      "photoUrl": "https://lh3.googleusercontent.com/a-/AAuE7mBZqK_m5L4lz7iUs6Nj8FUSjnI_bcgmfHvnD7mW=s64",
      "userId": "11107923966474525520"
     },
     "user_tz": 180
    },
    "id": "Hyn3eg2llr35",
    "outputId": "022c2557-eb00-45fe-8f7f-f53a3b496dd4"
   },
   "outputs": [
    {
     "name": "stdout",
     "output_type": "stream",
     "text": [
      "13M\tfeatures.pkl\n",
      "0\tfinal_model.pkl\n",
      "240M\tx_segments.pkl\n"
     ]
    }
   ],
   "source": [
    "## Gravando as features\n",
    "with open('x_segments.pkl', 'wb') as f:\n",
    "    X = {'x_train':x_train,\n",
    "         'x_valid':x_valid}\n",
    "    pickle.dump(X, f, protocol=pickle.HIGHEST_PROTOCOL)\n",
    "    f.close()\n",
    "\n",
    "!cp x_segments.pkl \"$path_proj/dados/\"\n",
    "!du -h *.pkl"
   ]
  },
  {
   "cell_type": "code",
   "execution_count": null,
   "metadata": {
    "colab": {},
    "colab_type": "code",
    "id": "yVLygaMEJZet"
   },
   "outputs": [],
   "source": [
    "# with open('features.pkl', 'rb') as f:\n",
    "#     foo = pickle.load(f)\n",
    "#     f.close()\n",
    "# foo.keys()\n",
    "# foo['col_mfcc']"
   ]
  },
  {
   "cell_type": "code",
   "execution_count": null,
   "metadata": {
    "colab": {
     "base_uri": "https://localhost:8080/",
     "height": 269
    },
    "colab_type": "code",
    "executionInfo": {
     "elapsed": 1554,
     "status": "ok",
     "timestamp": 1568006017689,
     "user": {
      "displayName": "Alexandre Seidy Ioshisaqui",
      "photoUrl": "https://lh3.googleusercontent.com/a-/AAuE7mBZqK_m5L4lz7iUs6Nj8FUSjnI_bcgmfHvnD7mW=s64",
      "userId": "11107923966474525520"
     },
     "user_tz": 180
    },
    "id": "Oh8dwxVDY-72",
    "outputId": "2eb40ded-c073-4d7b-a290-f2b081ba00e9"
   },
   "outputs": [
    {
     "data": {
      "image/png": "[encoded data removed]",
      "text/plain": [
       "<Figure size 432x288 with 4 Axes>"
      ]
     },
     "metadata": {
      "tags": []
     },
     "output_type": "display_data"
    }
   ],
   "source": [
    "with plt.style.context('ggplot'):\n",
    "    fig = plt.figure()\n",
    "    ax = fig.add_subplot(211)\n",
    "\n",
    "    ax.plot(df_train['TH_P010_L'].values, '-r')\n",
    "    ax.grid(False)\n",
    "    ax2 = ax.twinx()\n",
    "    ax2.plot(df_train['y'].values, '-b');\n",
    "    ax2.grid(False)\n",
    "\n",
    "    ax = fig.add_subplot(212)\n",
    "    ax.plot(df_train['Q_10_L'].values, '-r')\n",
    "    ax.grid(False)\n",
    "    ax2 = ax.twinx()\n",
    "    ax2.plot(df_train['y'].values, '-b');\n",
    "    ax2.grid(False)"
   ]
  },
  {
   "cell_type": "code",
   "execution_count": null,
   "metadata": {
    "colab": {},
    "colab_type": "code",
    "id": "l2CbQ9XeZQx_"
   },
   "outputs": [],
   "source": []
  }
 ],
 "metadata": {
  "accelerator": "GPU",
  "colab": {
   "collapsed_sections": [],
   "name": "01-calculando-features-iniciais.ipynb",
   "provenance": [],
   "toc_visible": true
  },
  "kernelspec": {
   "display_name": "Python 3",
   "language": "python",
   "name": "python3"
  },
  "language_info": {
   "codemirror_mode": {
    "name": "ipython",
    "version": 3
   },
   "file_extension": ".py",
   "mimetype": "text/x-python",
   "name": "python",
   "nbconvert_exporter": "python",
   "pygments_lexer": "ipython3",
   "version": "3.6.8"
  }
 },
 "nbformat": 4,
 "nbformat_minor": 2
}
